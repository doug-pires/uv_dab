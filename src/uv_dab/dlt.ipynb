{
 "cells": [
  {
   "cell_type": "code",
   "execution_count": null,
   "metadata": {},
   "outputs": [],
   "source": [
    "path = spark.conf.get(\"bundle.sourcePath\")\n",
    "import sys\n",
    "\n",
    "sys.path.append(path)"
   ]
  },
  {
   "cell_type": "code",
   "execution_count": 4,
   "metadata": {},
   "outputs": [],
   "source": [
    "import dlt\n",
    "\n",
    "from uv_dab.constants import VOLUME_PATH\n",
    "from uv_dab.low_level_functions.utils import (\n",
    "    add_current_timestampe_to_df,\n",
    "    add_word_count_to_df,\n",
    ")"
   ]
  },
  {
   "cell_type": "code",
   "execution_count": null,
   "metadata": {},
   "outputs": [],
   "source": [
    "@dlt.create_table(\n",
    "    comment=\"Read raw facts from volume\",\n",
    ")\n",
    "def raw_facts():\n",
    "    return (\n",
    "        spark.readStream.format(\"cloudFiles\")\n",
    "        .option(\"cloudFiles.format\", \"json\")\n",
    "        .option(\"cloudFiles.inferColumnTypes\", \"true\")\n",
    "        .load(VOLUME_PATH)\n",
    "        .transform(add_current_timestampe_to_df)\n",
    "    )"
   ]
  },
  {
   "cell_type": "code",
   "execution_count": null,
   "metadata": {},
   "outputs": [],
   "source": [
    "# Augment Bronze table with a new column\n",
    "@dlt.create_table(comment=\"Augmented table with word count\")\n",
    "def silver_facts():\n",
    "    return dlt.read_stream(\"raw_facts\").transform(add_word_count_to_df, \"fact\")"
   ]
  },
  {
   "cell_type": "code",
   "execution_count": null,
   "metadata": {},
   "outputs": [],
   "source": [
    "# Group table by timestamp and count the number of facts\n",
    "@dlt.create_table(comment=\"Grouped Table\")\n",
    "def gold_grouped_data():\n",
    "    return dlt.read_stream(\"silver_facts\").groupBy(\"ingestion_timestamp\").count()"
   ]
  }
 ],
 "metadata": {
  "kernelspec": {
   "display_name": ".venv",
   "language": "python",
   "name": "python3"
  },
  "language_info": {
   "codemirror_mode": {
    "name": "ipython",
    "version": 3
   },
   "file_extension": ".py",
   "mimetype": "text/x-python",
   "name": "python",
   "nbconvert_exporter": "python",
   "pygments_lexer": "ipython3",
   "version": "3.11.9"
  }
 },
 "nbformat": 4,
 "nbformat_minor": 2
}
